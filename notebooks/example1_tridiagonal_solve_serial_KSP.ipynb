{
 "cells": [
  {
   "cell_type": "markdown",
   "metadata": {},
   "source": [
    "## notebook setup and configuration"
   ]
  },
  {
   "cell_type": "code",
   "execution_count": 1,
   "metadata": {},
   "outputs": [],
   "source": [
    "import numpy as np\n",
    "import matplotlib.pyplot as plt\n",
    "import petsc4py\n",
    "from petsc4py import PETSc"
   ]
  },
  {
   "cell_type": "markdown",
   "metadata": {},
   "source": [
    "# basic assembly and solution of linear system"
   ]
  },
  {
   "cell_type": "code",
   "execution_count": 2,
   "metadata": {},
   "outputs": [],
   "source": [
    "# problem size\n",
    "n = 100"
   ]
  },
  {
   "cell_type": "markdown",
   "metadata": {},
   "source": [
    "## creation of matrix `A`"
   ]
  },
  {
   "cell_type": "markdown",
   "metadata": {},
   "source": [
    "Create matrix.  When using MatCreate(), the matrix format can be specified at runtime.\n",
    "\n",
    "Performance tuning note:  For problems of substantial size, preallocation of matrix memory is crucial for attaining good performance. See the matrix chapter of the users manual for details."
   ]
  },
  {
   "cell_type": "code",
   "execution_count": 3,
   "metadata": {},
   "outputs": [],
   "source": [
    "# create the tridiagonal matrix A\n",
    "A = PETSc.Mat().createAIJ([n, n], nnz=3)"
   ]
  },
  {
   "cell_type": "markdown",
   "metadata": {},
   "source": [
    "Assemble the matrix\n"
   ]
  },
  {
   "cell_type": "code",
   "execution_count": 4,
   "metadata": {},
   "outputs": [],
   "source": [
    "# first row\n",
    "A.setValue(row=0, col=0, value=  2.0)\n",
    "A.setValue(row=0, col=1, value= -1.0)\n",
    "\n",
    "# inner rows\n",
    "for i in range(1, n-1):\n",
    "    A.setValue(row=i, col=i-1, value= -1. )\n",
    "    A.setValue(row=i, col=i  , value=  2.0)\n",
    "    A.setValue(row=i, col=i+1, value= -1. )\n",
    "    \n",
    "# last row\n",
    "A.setValue(row=n-1, col=n-2, value= -1.0)\n",
    "A.setValue(row=n-1, col=n-1, value=  2.0)"
   ]
  },
  {
   "cell_type": "code",
   "execution_count": 5,
   "metadata": {},
   "outputs": [],
   "source": [
    "# assembly complete, make matrix usable\n",
    "A.assemblyBegin() \n",
    "A.assemblyEnd()"
   ]
  },
  {
   "cell_type": "markdown",
   "metadata": {},
   "source": [
    "## creation of solution vector `x` and right hand side vector`b`"
   ]
  },
  {
   "cell_type": "markdown",
   "metadata": {},
   "source": [
    "$Ax = b$, with exact solution $u = \\mathbf{1}^T$; we evaluate $b = A*u$"
   ]
  },
  {
   "cell_type": "code",
   "execution_count": 6,
   "metadata": {},
   "outputs": [],
   "source": [
    "# create solution vector, exact solution, and right hand side\n",
    "x = PETSc.Vec().createSeq(n)\n",
    "u = PETSc.Vec().createSeq(n)\n",
    "b = PETSc.Vec().createSeq(n)"
   ]
  },
  {
   "cell_type": "code",
   "execution_count": 7,
   "metadata": {},
   "outputs": [],
   "source": [
    "# set all entries of u to 1.0\n",
    "u.set(1.)"
   ]
  },
  {
   "cell_type": "code",
   "execution_count": 8,
   "metadata": {},
   "outputs": [],
   "source": [
    "A.mult(u, b)"
   ]
  },
  {
   "cell_type": "markdown",
   "metadata": {},
   "source": [
    "## creation of linear `KSP` solver and setting solver options"
   ]
  },
  {
   "cell_type": "code",
   "execution_count": 9,
   "metadata": {},
   "outputs": [],
   "source": [
    "# create the solver\n",
    "ksp = PETSc.KSP().create()\n",
    "ksp.setOperators(A)"
   ]
  },
  {
   "cell_type": "markdown",
   "metadata": {},
   "source": [
    "## solving the linear system"
   ]
  },
  {
   "cell_type": "code",
   "execution_count": 10,
   "metadata": {},
   "outputs": [],
   "source": [
    "# call the solver\n",
    "ksp.solve(b, x)"
   ]
  },
  {
   "cell_type": "code",
   "execution_count": 11,
   "metadata": {},
   "outputs": [
    {
     "data": {
      "text/plain": [
       "1"
      ]
     },
     "execution_count": 11,
     "metadata": {},
     "output_type": "execute_result"
    }
   ],
   "source": [
    "# check number of iterations\n",
    "ksp.getIterationNumber()"
   ]
  },
  {
   "cell_type": "markdown",
   "metadata": {},
   "source": [
    "We can multiply a vector by a scalar using the `petsc4py` analogy to the `PETSc` `VecAXPY` method, which computes $x= \\alpha x + x$. Since the exact solution is $\\mathbf{1}^T$, the result of $x - 1$ should be $\\mathbf{0}^T$. We can check the vector norm of the result to be sure."
   ]
  },
  {
   "cell_type": "code",
   "execution_count": 12,
   "metadata": {},
   "outputs": [
    {
     "data": {
      "text/plain": [
       "3.2595021122271574e-14"
      ]
     },
     "execution_count": 12,
     "metadata": {},
     "output_type": "execute_result"
    }
   ],
   "source": [
    "# check the error\n",
    "α = -1.0\n",
    "x.axpy(α, u)\n",
    "x.norm(norm_type=PETSc.NormType.NORM_2)"
   ]
  },
  {
   "cell_type": "markdown",
   "metadata": {},
   "source": [
    "## converting `petsc4py` objects to `NumPy` objects"
   ]
  },
  {
   "cell_type": "code",
   "execution_count": 13,
   "metadata": {},
   "outputs": [
    {
     "data": {
      "text/plain": [
       "array([1., 1., 1., 1., 1., 1., 1., 1., 1., 1., 1., 1., 1., 1., 1., 1., 1.,\n",
       "       1., 1., 1., 1., 1., 1., 1., 1., 1., 1., 1., 1., 1., 1., 1., 1., 1.,\n",
       "       1., 1., 1., 1., 1., 1., 1., 1., 1., 1., 1., 1., 1., 1., 1., 1., 1.,\n",
       "       1., 1., 1., 1., 1., 1., 1., 1., 1., 1., 1., 1., 1., 1., 1., 1., 1.,\n",
       "       1., 1., 1., 1., 1., 1., 1., 1., 1., 1., 1., 1., 1., 1., 1., 1., 1.,\n",
       "       1., 1., 1., 1., 1., 1., 1., 1., 1., 1., 1., 1., 1., 1., 1.])"
      ]
     },
     "execution_count": 13,
     "metadata": {},
     "output_type": "execute_result"
    }
   ],
   "source": [
    "# get u as a numpy array\n",
    "u_numpy = u.getArray()\n",
    "u_numpy"
   ]
  },
  {
   "cell_type": "markdown",
   "metadata": {},
   "source": [
    "## cleanup of objects in memory"
   ]
  },
  {
   "cell_type": "code",
   "execution_count": 14,
   "metadata": {},
   "outputs": [],
   "source": [
    "del A, ksp"
   ]
  },
  {
   "cell_type": "markdown",
   "metadata": {},
   "source": [
    "# Alternative serial constructions "
   ]
  },
  {
   "cell_type": "markdown",
   "metadata": {},
   "source": [
    "In the following section, we consider different methods of serial assembly of `A`. We define a convenience function to check that each `A` we assemble returns the correct solution as above. Note that the function can see the globally defined variables `x,b`."
   ]
  },
  {
   "cell_type": "code",
   "execution_count": 18,
   "metadata": {},
   "outputs": [],
   "source": [
    "def test_A_operator(A):\n",
    "    # solve the system and check that we recover the same solution\n",
    "    ksp = PETSc.KSP().create()\n",
    "    ksp.setOperators(A)\n",
    "    ksp.solve(b, x)\n",
    "    assert np.allclose(x.getArray(), np.ones(n))\n",
    "    print('test passed. A consistent.')"
   ]
  },
  {
   "cell_type": "markdown",
   "metadata": {},
   "source": [
    "## using `setValues`\n",
    "\n",
    "Instead of setting each value individually, we can set the values for each row at once by calling the `setValues` method of `A`."
   ]
  },
  {
   "cell_type": "code",
   "execution_count": 19,
   "metadata": {},
   "outputs": [],
   "source": [
    "# create the tridiagonal matrix A\n",
    "A = PETSc.Mat().createAIJ([n, n], nnz=3)\n",
    "\n",
    "# first row\n",
    "A.setValues(rows=[0], cols=[0, 1], values=[2.0, -1.0])\n",
    "\n",
    "# inner rows\n",
    "for i in range(1, n-1):\n",
    "    I, J = np.array([i], dtype=np.int32), np.array([i-1, i, i+1], dtype=np.int32)\n",
    "    VALS = np.array([-1., 2.0, -1.])\n",
    "    A.setValues(rows=I, cols=J, values=VALS)\n",
    "    \n",
    "# last row\n",
    "A.setValues(rows=[n-1], cols=[n-1, n-2], values=[-1.0, 2.0])\n",
    "\n",
    "# assembly complete, make matrix usable\n",
    "A.assemblyBegin() \n",
    "A.assemblyEnd()"
   ]
  },
  {
   "cell_type": "code",
   "execution_count": 20,
   "metadata": {},
   "outputs": [
    {
     "name": "stdout",
     "output_type": "stream",
     "text": [
      "test passed. A consistent.\n"
     ]
    }
   ],
   "source": [
    "test_A_operator(A)"
   ]
  },
  {
   "cell_type": "code",
   "execution_count": null,
   "metadata": {},
   "outputs": [],
   "source": []
  }
 ],
 "metadata": {
  "kernelspec": {
   "display_name": "petsc4py_notes_env",
   "language": "python3",
   "name": "petsc4py_notes_env"
  },
  "language_info": {
   "codemirror_mode": {
    "name": "ipython",
    "version": 3
   },
   "file_extension": ".py",
   "mimetype": "text/x-python",
   "name": "python",
   "nbconvert_exporter": "python",
   "pygments_lexer": "ipython3",
   "version": "3.6.4"
  },
  "toc": {
   "base_numbering": 1,
   "nav_menu": {},
   "number_sections": true,
   "sideBar": true,
   "skip_h1_title": false,
   "title_cell": "Table of Contents",
   "title_sidebar": "Contents",
   "toc_cell": false,
   "toc_position": {},
   "toc_section_display": true,
   "toc_window_display": false
  }
 },
 "nbformat": 4,
 "nbformat_minor": 2
}
